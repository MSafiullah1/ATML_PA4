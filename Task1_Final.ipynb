{
  "metadata": {
    "kernelspec": {
      "display_name": "Python 3",
      "name": "python3"
    },
    "language_info": {
      "name": "python",
      "version": "3.10.14",
      "mimetype": "text/x-python",
      "codemirror_mode": {
        "name": "ipython",
        "version": 3
      },
      "pygments_lexer": "ipython3",
      "nbconvert_exporter": "python",
      "file_extension": ".py"
    },
    "kaggle": {
      "accelerator": "nvidiaTeslaT4",
      "dataSources": [],
      "dockerImageVersionId": 30786,
      "isInternetEnabled": true,
      "language": "python",
      "sourceType": "notebook",
      "isGpuEnabled": true
    },
    "colab": {
      "provenance": [],
      "gpuType": "T4"
    },
    "accelerator": "GPU"
  },
  "nbformat_minor": 0,
  "nbformat": 4,
  "cells": [
    {
      "cell_type": "markdown",
      "source": [
        "# Assignment 4\n",
        "\n",
        "The objective of this assignment is to introduce you to federated learning, with a particular focus on the challenges posed by data heterogeneity. Specifically, you will explore well-known approaches for addressing statistical heterogeneity, approaching the problem from multiple angles.\n",
        "\n",
        "You have been provided with a manual that includes detailed descriptions of each task. Follow the instructions in the manual carefully, and add your answers and implementations directly in this notebook.\n",
        "\n",
        "Note: In this assignment, we concentrate on one common type of statistical heterogeneity: label skew. While feature skew is another significant aspect of heterogeneity, it will not be the focus of this assignment."
      ],
      "metadata": {
        "id": "Eb7zBvzhswYS"
      }
    },
    {
      "cell_type": "code",
      "source": [
        "import os\n",
        "import torch\n",
        "from torchvision import datasets, transforms\n",
        "import pickle\n",
        "import matplotlib.pyplot as plt\n",
        "import numpy as np\n",
        "from torch.utils.data import Dataset, DataLoader, TensorDataset, random_split\n",
        "from collections import defaultdict\n",
        "import torch.nn as nn\n",
        "import torch.optim as optim\n",
        "import torch.nn.functional as F\n",
        "from tqdm import tqdm\n",
        "from torch.utils.data import Subset"
      ],
      "metadata": {
        "trusted": true,
        "execution": {
          "iopub.status.busy": "2024-11-23T10:39:32.791481Z",
          "iopub.execute_input": "2024-11-23T10:39:32.791894Z",
          "iopub.status.idle": "2024-11-23T10:39:32.796980Z",
          "shell.execute_reply.started": "2024-11-23T10:39:32.791835Z",
          "shell.execute_reply": "2024-11-23T10:39:32.796158Z"
        },
        "id": "G_5iJErGswYT"
      },
      "outputs": [],
      "execution_count": 1
    },
    {
      "cell_type": "code",
      "source": [
        "transform = transforms.Compose([\n",
        "    transforms.ToTensor(),\n",
        "])\n",
        "\n",
        "dataset = datasets.MNIST(root='./data', train=True, download=True, transform=transform)\n",
        "\n",
        "# Calculate sizes for training and testing datasets\n",
        "train_size = int(0.8 * len(dataset))\n",
        "test_size = len(dataset) - train_size\n",
        "\n",
        "# Define fixed indices for train and test splits\n",
        "train_indices = list(range(train_size))\n",
        "test_indices = list(range(train_size, len(dataset)))\n",
        "\n",
        "# Create Subsets based on these indices\n",
        "train_dataset = Subset(dataset, train_indices)\n",
        "test_dataset = Subset(dataset, test_indices)\n",
        "\n",
        "train_images = dataset.data[train_dataset.indices].numpy()\n",
        "train_labels = dataset.targets[train_dataset.indices].numpy()\n",
        "test_images = dataset.data[test_dataset.indices].numpy()\n",
        "test_labels = dataset.targets[test_dataset.indices].numpy()\n"
      ],
      "metadata": {
        "trusted": true,
        "execution": {
          "iopub.status.busy": "2024-11-23T10:39:32.798651Z",
          "iopub.execute_input": "2024-11-23T10:39:32.799339Z",
          "iopub.status.idle": "2024-11-23T10:39:32.921896Z",
          "shell.execute_reply.started": "2024-11-23T10:39:32.799299Z",
          "shell.execute_reply": "2024-11-23T10:39:32.921099Z"
        },
        "colab": {
          "base_uri": "https://localhost:8080/"
        },
        "id": "AYIBFBWMswYT",
        "outputId": "a8392720-f0ca-48d9-fdf9-f7ec825c3052"
      },
      "outputs": [
        {
          "output_type": "stream",
          "name": "stdout",
          "text": [
            "Downloading http://yann.lecun.com/exdb/mnist/train-images-idx3-ubyte.gz\n",
            "Failed to download (trying next):\n",
            "HTTP Error 403: Forbidden\n",
            "\n",
            "Downloading https://ossci-datasets.s3.amazonaws.com/mnist/train-images-idx3-ubyte.gz\n",
            "Downloading https://ossci-datasets.s3.amazonaws.com/mnist/train-images-idx3-ubyte.gz to ./data/MNIST/raw/train-images-idx3-ubyte.gz\n"
          ]
        },
        {
          "output_type": "stream",
          "name": "stderr",
          "text": [
            "100%|██████████| 9.91M/9.91M [00:02<00:00, 4.59MB/s]\n"
          ]
        },
        {
          "output_type": "stream",
          "name": "stdout",
          "text": [
            "Extracting ./data/MNIST/raw/train-images-idx3-ubyte.gz to ./data/MNIST/raw\n",
            "\n",
            "Downloading http://yann.lecun.com/exdb/mnist/train-labels-idx1-ubyte.gz\n",
            "Failed to download (trying next):\n",
            "HTTP Error 403: Forbidden\n",
            "\n",
            "Downloading https://ossci-datasets.s3.amazonaws.com/mnist/train-labels-idx1-ubyte.gz\n",
            "Downloading https://ossci-datasets.s3.amazonaws.com/mnist/train-labels-idx1-ubyte.gz to ./data/MNIST/raw/train-labels-idx1-ubyte.gz\n"
          ]
        },
        {
          "output_type": "stream",
          "name": "stderr",
          "text": [
            "100%|██████████| 28.9k/28.9k [00:00<00:00, 134kB/s]\n"
          ]
        },
        {
          "output_type": "stream",
          "name": "stdout",
          "text": [
            "Extracting ./data/MNIST/raw/train-labels-idx1-ubyte.gz to ./data/MNIST/raw\n",
            "\n",
            "Downloading http://yann.lecun.com/exdb/mnist/t10k-images-idx3-ubyte.gz\n",
            "Failed to download (trying next):\n",
            "HTTP Error 403: Forbidden\n",
            "\n",
            "Downloading https://ossci-datasets.s3.amazonaws.com/mnist/t10k-images-idx3-ubyte.gz\n",
            "Downloading https://ossci-datasets.s3.amazonaws.com/mnist/t10k-images-idx3-ubyte.gz to ./data/MNIST/raw/t10k-images-idx3-ubyte.gz\n"
          ]
        },
        {
          "output_type": "stream",
          "name": "stderr",
          "text": [
            "100%|██████████| 1.65M/1.65M [00:01<00:00, 1.27MB/s]\n"
          ]
        },
        {
          "output_type": "stream",
          "name": "stdout",
          "text": [
            "Extracting ./data/MNIST/raw/t10k-images-idx3-ubyte.gz to ./data/MNIST/raw\n",
            "\n",
            "Downloading http://yann.lecun.com/exdb/mnist/t10k-labels-idx1-ubyte.gz\n",
            "Failed to download (trying next):\n",
            "HTTP Error 403: Forbidden\n",
            "\n",
            "Downloading https://ossci-datasets.s3.amazonaws.com/mnist/t10k-labels-idx1-ubyte.gz\n",
            "Downloading https://ossci-datasets.s3.amazonaws.com/mnist/t10k-labels-idx1-ubyte.gz to ./data/MNIST/raw/t10k-labels-idx1-ubyte.gz\n"
          ]
        },
        {
          "output_type": "stream",
          "name": "stderr",
          "text": [
            "100%|██████████| 4.54k/4.54k [00:00<00:00, 3.08MB/s]\n"
          ]
        },
        {
          "output_type": "stream",
          "name": "stdout",
          "text": [
            "Extracting ./data/MNIST/raw/t10k-labels-idx1-ubyte.gz to ./data/MNIST/raw\n",
            "\n"
          ]
        }
      ],
      "execution_count": 2
    },
    {
      "cell_type": "code",
      "source": [
        "def partition_data(train_data, train_targets, test_data, test_targets, num_clients, dirichlet_alpha=0.5, batch_size=32):\n",
        "    num_classes = len(np.unique(train_targets))\n",
        "    client_data_indices = defaultdict(list)\n",
        "    client_test_indices = defaultdict(list)\n",
        "\n",
        "    # Partition Train Data and Capture Proportions\n",
        "    client_proportions = []\n",
        "    for c in range(num_classes):\n",
        "        class_indices = np.where(train_targets == c)[0]\n",
        "        proportions = np.random.dirichlet([dirichlet_alpha] * num_clients)\n",
        "        client_proportions.append(proportions)\n",
        "\n",
        "        # Calculate split sizes and assign indices to each client\n",
        "        split_sizes = (np.cumsum(proportions) * len(class_indices)).astype(int)[:-1]\n",
        "        client_indices_split = np.split(class_indices, split_sizes)\n",
        "\n",
        "        for i, indices in enumerate(client_indices_split):\n",
        "            client_data_indices[i].extend(indices)\n",
        "\n",
        "    # Partition Test Data Using the Same Proportions as Train Data\n",
        "    for c, proportions in enumerate(client_proportions):\n",
        "        class_indices = np.where(test_targets == c)[0]\n",
        "        split_sizes = (np.cumsum(proportions) * len(class_indices)).astype(int)[:-1]\n",
        "        client_indices_split = np.split(class_indices, split_sizes)\n",
        "\n",
        "        for i, indices in enumerate(client_indices_split):\n",
        "            client_test_indices[i].extend(indices)\n",
        "\n",
        "    # Create Federated Loaders\n",
        "    federated_train_loaders, federated_test_loaders = [], []\n",
        "    for i in range(num_clients):\n",
        "        client_train_data = torch.tensor(train_data[client_data_indices[i]], dtype=torch.float32).unsqueeze(1)\n",
        "        client_train_targets = torch.tensor(train_targets[client_data_indices[i]], dtype=torch.long)\n",
        "        train_loader = DataLoader(TensorDataset(client_train_data, client_train_targets), batch_size=batch_size, shuffle=False, drop_last=False)\n",
        "        federated_train_loaders.append(train_loader)\n",
        "\n",
        "        client_test_data = torch.tensor(test_data[client_test_indices[i]], dtype=torch.float32).unsqueeze(1)\n",
        "        client_test_targets = torch.tensor(test_targets[client_test_indices[i]], dtype=torch.long)\n",
        "        test_loader = DataLoader(TensorDataset(client_test_data, client_test_targets), batch_size=batch_size, shuffle=False, drop_last=False)\n",
        "        federated_test_loaders.append(test_loader)\n",
        "\n",
        "    # Create Centralized Loader by combining data from federated loaders\n",
        "    centralized_data, centralized_targets = [], []\n",
        "    for train_loader in federated_train_loaders:\n",
        "        for images, targets in train_loader:\n",
        "            centralized_data.append(images)\n",
        "            centralized_targets.append(targets)\n",
        "\n",
        "    centralized_data = torch.cat(centralized_data)\n",
        "    centralized_targets = torch.cat(centralized_targets)\n",
        "    train_centralized_loader = DataLoader(TensorDataset(centralized_data, centralized_targets), batch_size=batch_size, shuffle=False, drop_last=False)\n",
        "\n",
        "    centralized_test_data = torch.tensor(test_data, dtype=torch.float32).unsqueeze(1)\n",
        "    centralized_test_targets = torch.tensor(test_targets, dtype=torch.long)\n",
        "    test_centralized_loader = DataLoader(TensorDataset(centralized_test_data, centralized_test_targets), batch_size=batch_size, shuffle=False)\n",
        "\n",
        "    return federated_train_loaders, federated_test_loaders, train_centralized_loader, test_centralized_loader\n"
      ],
      "metadata": {
        "trusted": true,
        "execution": {
          "iopub.status.busy": "2024-11-23T10:39:32.923095Z",
          "iopub.execute_input": "2024-11-23T10:39:32.923458Z",
          "iopub.status.idle": "2024-11-23T10:39:32.936700Z",
          "shell.execute_reply.started": "2024-11-23T10:39:32.923420Z",
          "shell.execute_reply": "2024-11-23T10:39:32.935733Z"
        },
        "id": "4aHR7hSMswYU"
      },
      "outputs": [],
      "execution_count": 3
    },
    {
      "cell_type": "code",
      "source": [
        "class SimpleCNN(nn.Module):\n",
        "    def __init__(self):\n",
        "        super(SimpleCNN, self).__init__()\n",
        "        self.conv1 = nn.Conv2d(1, 16, kernel_size=3, stride=1, padding=1)\n",
        "        self.conv2 = nn.Conv2d(16, 32, kernel_size=3, stride=1, padding=1)\n",
        "        self.fc1 = nn.Linear(32 * 7 * 7, 500)\n",
        "        self.fc2 = nn.Linear(500,10)\n",
        "        self.pool = nn.MaxPool2d(kernel_size=2, stride=2, padding=0)\n",
        "\n",
        "    def forward(self, x):\n",
        "        x = self.pool(F.relu(self.conv1(x)))\n",
        "        x = self.pool(F.relu(self.conv2(x)))\n",
        "        x = x.view(-1, 32 * 7 * 7)\n",
        "        x = F.relu(self.fc1(x))\n",
        "        x = self.fc2(x)\n",
        "        return x"
      ],
      "metadata": {
        "trusted": true,
        "execution": {
          "iopub.status.busy": "2024-11-23T10:39:32.939159Z",
          "iopub.execute_input": "2024-11-23T10:39:32.939568Z",
          "iopub.status.idle": "2024-11-23T10:39:32.953091Z",
          "shell.execute_reply.started": "2024-11-23T10:39:32.939519Z",
          "shell.execute_reply": "2024-11-23T10:39:32.952246Z"
        },
        "id": "BLyenUCHswYU"
      },
      "outputs": [],
      "execution_count": 4
    },
    {
      "cell_type": "markdown",
      "source": [
        "# Task 1: Centralized Vs Federated Scenario\n",
        "In this task, you will analyze the theoretical equivalence between FedSGD and a centralized training scenario. The code for both implementations has been provided. To minimize differences caused by floating-point precision, a batch size of 1 is used, along with full-batch gradient descent. You may change the device to cpu if you wish, as gpu will not be utilized for batch size of 1.\n",
        "\n",
        "Since we are working with batch size 1 and full-batch gradient descent, accuracy is not the focus here. Instead, you will monitor gradient divergence by tracking the sum or magnitude of the gradients at each round and observe how they evolve in both settings.\n",
        "\n",
        "Theoretically, FedSGD and centralized training should yield equivalent results. However, in this task, you may observe discrepancies. Your objective is to understand the code and identify the error that causes this divergence. You may want to review why FedSGD and full-batch centralized gradient descent are theoretically equivalent by revisiting the gradient descent steps on the global objective, as covered in class. Finally, assess whether the code aligns with these theoretical steps. If you believe they should not be equivalent, provide a reasoned justification."
      ],
      "metadata": {
        "id": "iRYKjA4YswYU"
      }
    },
    {
      "cell_type": "code",
      "source": [
        "num_clients = 5\n",
        "dirichlet_alpha = 0.8\n",
        "batch_size = 1\n",
        "\n",
        "# Partition data and create loaders\n",
        "federated_train_loaders, federated_test_loaders, train_centralized_loader, test_centralized_loader = partition_data(\n",
        "    train_images / 255.0, train_labels, test_images / 255.0, test_labels, num_clients, dirichlet_alpha, batch_size\n",
        ")"
      ],
      "metadata": {
        "trusted": true,
        "execution": {
          "iopub.status.busy": "2024-11-23T10:39:32.954124Z",
          "iopub.execute_input": "2024-11-23T10:39:32.954408Z",
          "iopub.status.idle": "2024-11-23T10:39:36.579577Z",
          "shell.execute_reply.started": "2024-11-23T10:39:32.954380Z",
          "shell.execute_reply": "2024-11-23T10:39:36.578611Z"
        },
        "id": "Wg_5RkLiswYV"
      },
      "outputs": [],
      "execution_count": 5
    },
    {
      "cell_type": "code",
      "source": [
        "def fedsgd_training(global_model, train_loaders, num_clients, rounds, lr):\n",
        "    round_avg_updates = []\n",
        "\n",
        "    device = torch.device(\"cuda\" if torch.cuda.is_available() else \"cpu\")\n",
        "    global_model.to(device)\n",
        "    print(f\"Using device: {device}\")\n",
        "\n",
        "    client_data_counts = [len(train_loader.dataset) for train_loader in train_loaders]\n",
        "    total_data_count = 0\n",
        "    for count in client_data_counts:\n",
        "        total_data_count += count\n",
        "\n",
        "    for round_num in range(rounds):\n",
        "        client_updates = []\n",
        "        print(f\"Round {round_num + 1}/{rounds}\")\n",
        "\n",
        "        for client_id in range(num_clients):\n",
        "            overall_update = local_train(global_model, train_loaders[client_id], lr)\n",
        "            client_update_device = {name: update.to(device) for name, update in overall_update.items()}\n",
        "            client_updates.append(client_update_device)\n",
        "\n",
        "            client_update_sum = 0\n",
        "            for update in client_update_device.values():\n",
        "                client_update_sum += update.abs().sum().item()\n",
        "            print(f\"Client {client_id + 1} Update Sum at Round {round_num + 1}: {client_update_sum}\")\n",
        "\n",
        "        avg_update = {}\n",
        "        for name in global_model.state_dict():\n",
        "            grad_sum = torch.zeros_like(global_model.state_dict()[name], device=device)\n",
        "            for client_id in range(num_clients):\n",
        "                # grad_sum += client_updates[client_id][name] * (client_data_counts[client_id] / total_data_count) #weighted avg\n",
        "                grad_sum += client_updates[client_id][name]\n",
        "            avg_update[name] = grad_sum\n",
        "\n",
        "        round_avg_updates.append(avg_update)\n",
        "\n",
        "        avg_update_sum = 0\n",
        "        for update in avg_update.values():\n",
        "            avg_update_sum += update.abs().sum().item()\n",
        "        print(f\"Averaged Update Sum at Round {round_num + 1}: {avg_update_sum}\")\n",
        "\n",
        "        with torch.no_grad():\n",
        "            for name, param in global_model.named_parameters():\n",
        "                param -= avg_update[name]\n",
        "\n",
        "    return round_avg_updates\n",
        "\n",
        "\n",
        "\n",
        "def local_train(model, train_loader, lr):\n",
        "    local_model = SimpleCNN()\n",
        "    local_model.load_state_dict(model.state_dict())\n",
        "    local_model.train()\n",
        "\n",
        "    optimizer = optim.SGD(local_model.parameters(), lr=lr)\n",
        "    criterion = nn.CrossEntropyLoss(reduction=\"sum\")\n",
        "\n",
        "    device = torch.device(\"cuda\" if torch.cuda.is_available() else \"cpu\")\n",
        "    local_model.to(device)\n",
        "\n",
        "    initial_weights = {name: param.clone() for name, param in local_model.named_parameters()}\n",
        "\n",
        "    for epoch in range(1):\n",
        "        print(f\"Epoch {epoch + 1}/{1} for local client\")\n",
        "        optimizer.zero_grad()\n",
        "        batch_iterator = tqdm(train_loader, desc=f\"Training Batches (Epoch {epoch + 1})\")\n",
        "\n",
        "        # Loop over batches\n",
        "        for x_train, y_train in batch_iterator:\n",
        "            x_train, y_train = x_train.to(device), y_train.to(device)\n",
        "            outputs = local_model(x_train)\n",
        "            loss = criterion(outputs, y_train)\n",
        "            loss.backward()\n",
        "            batch_iterator.set_postfix(loss=loss.item())\n",
        "\n",
        "        optimizer.step()\n",
        "\n",
        "    overall_update = {name: initial_weights[name] - param for name, param in local_model.named_parameters()}\n",
        "\n",
        "    return overall_update\n"
      ],
      "metadata": {
        "trusted": true,
        "execution": {
          "iopub.status.busy": "2024-11-23T10:39:36.580839Z",
          "iopub.execute_input": "2024-11-23T10:39:36.581190Z",
          "iopub.status.idle": "2024-11-23T10:39:36.594279Z",
          "shell.execute_reply.started": "2024-11-23T10:39:36.581161Z",
          "shell.execute_reply": "2024-11-23T10:39:36.593264Z"
        },
        "id": "Pwjs-PX0swYV"
      },
      "outputs": [],
      "execution_count": 6
    },
    {
      "cell_type": "code",
      "source": [
        "def centralized_training_updates(global_model, train_loader, epochs, lr):\n",
        "    centralized_model = SimpleCNN()\n",
        "    centralized_model.load_state_dict(global_model.state_dict())\n",
        "    centralized_model.train()\n",
        "\n",
        "    optimizer = optim.SGD(centralized_model.parameters(), lr=lr)\n",
        "    criterion = nn.CrossEntropyLoss(reduction=\"sum\")\n",
        "\n",
        "    device = torch.device(\"cuda\" if torch.cuda.is_available() else \"cpu\")\n",
        "    print(f\"Using device: {device}\")\n",
        "    centralized_model.to(device)\n",
        "\n",
        "    epoch_updates = []\n",
        "\n",
        "    for epoch in range(epochs):\n",
        "        print(f\"Epoch {epoch + 1}/{epochs}\")\n",
        "        epoch_initial_weights = {name: param.clone() for name, param in centralized_model.named_parameters()}\n",
        "        optimizer.zero_grad()\n",
        "        batch_iterator = tqdm(train_loader, desc=f\"Training Batches (Epoch {epoch + 1})\")\n",
        "\n",
        "        for x_train, y_train in batch_iterator:\n",
        "            x_train, y_train = x_train.to(device), y_train.to(device)\n",
        "            outputs = centralized_model(x_train)\n",
        "            loss = criterion(outputs, y_train)\n",
        "            loss.backward()\n",
        "\n",
        "            batch_iterator.set_postfix(loss=loss.item())\n",
        "\n",
        "        optimizer.step()\n",
        "\n",
        "        epoch_update = {name: param - epoch_initial_weights[name]  for name, param in centralized_model.named_parameters()}\n",
        "        epoch_updates.append(epoch_update)\n",
        "\n",
        "        epoch_update_sum = 0\n",
        "        for update in epoch_update.values():\n",
        "            epoch_update_sum += update.abs().sum().item()\n",
        "\n",
        "        print(f\"Epoch {epoch + 1} Update Sum: {epoch_update_sum}\")\n",
        "\n",
        "    global_model.load_state_dict(centralized_model.state_dict())\n",
        "\n",
        "    return epoch_updates\n"
      ],
      "metadata": {
        "trusted": true,
        "execution": {
          "iopub.status.busy": "2024-11-23T10:39:36.595712Z",
          "iopub.execute_input": "2024-11-23T10:39:36.596533Z",
          "iopub.status.idle": "2024-11-23T10:39:36.610517Z",
          "shell.execute_reply.started": "2024-11-23T10:39:36.596483Z",
          "shell.execute_reply": "2024-11-23T10:39:36.609797Z"
        },
        "id": "KRQWPKRNswYV"
      },
      "outputs": [],
      "execution_count": 7
    },
    {
      "cell_type": "code",
      "source": [
        "# Initialize model and parameters\n",
        "rounds = 4\n",
        "lr = 1e-4\n",
        "initial_model = SimpleCNN()"
      ],
      "metadata": {
        "trusted": true,
        "execution": {
          "iopub.status.busy": "2024-11-23T10:39:36.611451Z",
          "iopub.execute_input": "2024-11-23T10:39:36.611714Z",
          "iopub.status.idle": "2024-11-23T10:39:36.630724Z",
          "shell.execute_reply.started": "2024-11-23T10:39:36.611686Z",
          "shell.execute_reply": "2024-11-23T10:39:36.630024Z"
        },
        "id": "gac1ql7XswYW"
      },
      "outputs": [],
      "execution_count": 8
    },
    {
      "cell_type": "code",
      "source": [
        "# Centralized Training\n",
        "global_model_centralized = SimpleCNN()\n",
        "global_model_centralized.load_state_dict(initial_model.state_dict())\n",
        "centralized_updates = centralized_training_updates(global_model_centralized, train_centralized_loader, epochs=rounds, lr=lr)"
      ],
      "metadata": {
        "trusted": true,
        "execution": {
          "iopub.status.busy": "2024-11-23T10:39:36.631755Z",
          "iopub.execute_input": "2024-11-23T10:39:36.632039Z",
          "iopub.status.idle": "2024-11-23T10:47:59.189545Z",
          "shell.execute_reply.started": "2024-11-23T10:39:36.632010Z",
          "shell.execute_reply": "2024-11-23T10:47:59.188607Z"
        },
        "colab": {
          "base_uri": "https://localhost:8080/"
        },
        "id": "0iBa7HaFswYW",
        "outputId": "ab557a69-63fa-41ce-d45c-789d3eb84aab"
      },
      "outputs": [
        {
          "output_type": "stream",
          "name": "stdout",
          "text": [
            "Using device: cuda\n",
            "Epoch 1/4\n"
          ]
        },
        {
          "output_type": "stream",
          "name": "stderr",
          "text": [
            "Training Batches (Epoch 1): 100%|██████████| 48000/48000 [04:12<00:00, 190.35it/s, loss=2.37]\n"
          ]
        },
        {
          "output_type": "stream",
          "name": "stdout",
          "text": [
            "Epoch 1 Update Sum: 346.254536151886\n",
            "Epoch 2/4\n"
          ]
        },
        {
          "output_type": "stream",
          "name": "stderr",
          "text": [
            "Training Batches (Epoch 2): 100%|██████████| 48000/48000 [04:00<00:00, 199.87it/s, loss=2.15]\n"
          ]
        },
        {
          "output_type": "stream",
          "name": "stdout",
          "text": [
            "Epoch 2 Update Sum: 456.67047414183617\n",
            "Epoch 3/4\n"
          ]
        },
        {
          "output_type": "stream",
          "name": "stderr",
          "text": [
            "Training Batches (Epoch 3): 100%|██████████| 48000/48000 [03:57<00:00, 202.16it/s, loss=4.49]\n"
          ]
        },
        {
          "output_type": "stream",
          "name": "stdout",
          "text": [
            "Epoch 3 Update Sum: 7787.741715192795\n",
            "Epoch 4/4\n"
          ]
        },
        {
          "output_type": "stream",
          "name": "stderr",
          "text": [
            "Training Batches (Epoch 4): 100%|██████████| 48000/48000 [03:56<00:00, 203.01it/s, loss=6.25]\n"
          ]
        },
        {
          "output_type": "stream",
          "name": "stdout",
          "text": [
            "Epoch 4 Update Sum: 18185.031916618347\n"
          ]
        }
      ],
      "execution_count": 9
    },
    {
      "cell_type": "code",
      "source": [
        "# Fedsgd\n",
        "global_model_fedsgd = SimpleCNN()\n",
        "global_model_fedsgd.load_state_dict(initial_model.state_dict())\n",
        "fedsgd_avg_updates = fedsgd_training(global_model_fedsgd, federated_train_loaders, num_clients, rounds=rounds, lr=lr)"
      ],
      "metadata": {
        "trusted": true,
        "execution": {
          "iopub.status.busy": "2024-11-23T10:47:59.191753Z",
          "iopub.execute_input": "2024-11-23T10:47:59.192060Z",
          "iopub.status.idle": "2024-11-23T10:56:18.005045Z",
          "shell.execute_reply.started": "2024-11-23T10:47:59.192033Z",
          "shell.execute_reply": "2024-11-23T10:56:18.004096Z"
        },
        "id": "rS8X0_LgswYW",
        "colab": {
          "base_uri": "https://localhost:8080/"
        },
        "outputId": "dcc1c1e1-ffbc-4cff-d1ed-09012ee66251"
      },
      "outputs": [
        {
          "metadata": {
            "tags": null
          },
          "name": "stdout",
          "output_type": "stream",
          "text": [
            "Using device: cuda\n",
            "Round 1/4\n",
            "Epoch 1/1 for local client\n"
          ]
        },
        {
          "metadata": {
            "tags": null
          },
          "name": "stderr",
          "output_type": "stream",
          "text": [
            "Training Batches (Epoch 1): 100%|██████████| 7759/7759 [00:45<00:00, 171.84it/s, loss=2.36]\n"
          ]
        },
        {
          "metadata": {
            "tags": null
          },
          "name": "stdout",
          "output_type": "stream",
          "text": [
            "Client 1 Update Sum at Round 1: 149.1474380493164\n",
            "Epoch 1/1 for local client\n"
          ]
        },
        {
          "metadata": {
            "tags": null
          },
          "name": "stderr",
          "output_type": "stream",
          "text": [
            "Training Batches (Epoch 1): 100%|██████████| 12383/12383 [01:02<00:00, 197.88it/s, loss=2.36]\n"
          ]
        },
        {
          "metadata": {
            "tags": null
          },
          "name": "stdout",
          "output_type": "stream",
          "text": [
            "Client 2 Update Sum at Round 1: 348.07404041290283\n",
            "Epoch 1/1 for local client\n"
          ]
        },
        {
          "metadata": {
            "tags": null
          },
          "name": "stderr",
          "output_type": "stream",
          "text": [
            "Training Batches (Epoch 1): 100%|██████████| 5893/5893 [00:28<00:00, 203.87it/s, loss=2.37]\n"
          ]
        },
        {
          "metadata": {
            "tags": null
          },
          "name": "stdout",
          "output_type": "stream",
          "text": [
            "Client 3 Update Sum at Round 1: 186.9003750681877\n",
            "Epoch 1/1 for local client\n"
          ]
        },
        {
          "metadata": {
            "tags": null
          },
          "name": "stderr",
          "output_type": "stream",
          "text": [
            "Training Batches (Epoch 1): 100%|██████████| 12505/12505 [01:00<00:00, 205.15it/s, loss=2.38]\n"
          ]
        },
        {
          "metadata": {
            "tags": null
          },
          "name": "stdout",
          "output_type": "stream",
          "text": [
            "Client 4 Update Sum at Round 1: 335.0643692612648\n",
            "Epoch 1/1 for local client\n"
          ]
        },
        {
          "metadata": {
            "tags": null
          },
          "name": "stderr",
          "output_type": "stream",
          "text": [
            "Training Batches (Epoch 1): 100%|██████████| 9460/9460 [00:45<00:00, 206.30it/s, loss=2.37]\n"
          ]
        },
        {
          "metadata": {
            "tags": null
          },
          "name": "stdout",
          "output_type": "stream",
          "text": [
            "Client 5 Update Sum at Round 1: 249.78418811410666\n",
            "Averaged Update Sum at Round 1: 346.2545375674963\n",
            "Round 2/4\n",
            "Epoch 1/1 for local client\n"
          ]
        },
        {
          "metadata": {
            "tags": null
          },
          "name": "stderr",
          "output_type": "stream",
          "text": [
            "Training Batches (Epoch 1): 100%|██████████| 7759/7759 [00:37<00:00, 204.46it/s, loss=2.15]\n"
          ]
        },
        {
          "metadata": {
            "tags": null
          },
          "name": "stdout",
          "output_type": "stream",
          "text": [
            "Client 1 Update Sum at Round 2: 157.75707814842463\n",
            "Epoch 1/1 for local client\n"
          ]
        },
        {
          "metadata": {
            "tags": null
          },
          "name": "stderr",
          "output_type": "stream",
          "text": [
            "Training Batches (Epoch 1): 100%|██████████| 12383/12383 [01:00<00:00, 204.99it/s, loss=2.14]\n"
          ]
        },
        {
          "metadata": {
            "tags": null
          },
          "name": "stdout",
          "output_type": "stream",
          "text": [
            "Client 2 Update Sum at Round 2: 390.01701164245605\n",
            "Epoch 1/1 for local client\n"
          ]
        },
        {
          "metadata": {
            "tags": null
          },
          "name": "stderr",
          "output_type": "stream",
          "text": [
            "Training Batches (Epoch 1): 100%|██████████| 5893/5893 [00:28<00:00, 204.27it/s, loss=2.12]\n"
          ]
        },
        {
          "metadata": {
            "tags": null
          },
          "name": "stdout",
          "output_type": "stream",
          "text": [
            "Client 3 Update Sum at Round 2: 191.72039645537734\n",
            "Epoch 1/1 for local client\n"
          ]
        },
        {
          "metadata": {
            "tags": null
          },
          "name": "stderr",
          "output_type": "stream",
          "text": [
            "Training Batches (Epoch 1): 100%|██████████| 12505/12505 [01:00<00:00, 205.04it/s, loss=2.16]\n"
          ]
        },
        {
          "metadata": {
            "tags": null
          },
          "name": "stdout",
          "output_type": "stream",
          "text": [
            "Client 4 Update Sum at Round 2: 360.7382324934006\n",
            "Epoch 1/1 for local client\n"
          ]
        },
        {
          "metadata": {
            "tags": null
          },
          "name": "stderr",
          "output_type": "stream",
          "text": [
            "Training Batches (Epoch 1): 100%|██████████| 9460/9460 [00:46<00:00, 205.60it/s, loss=2.15]\n"
          ]
        },
        {
          "metadata": {
            "tags": null
          },
          "name": "stdout",
          "output_type": "stream",
          "text": [
            "Client 5 Update Sum at Round 2: 306.7097024023533\n",
            "Averaged Update Sum at Round 2: 456.67027989029884\n",
            "Round 3/4\n",
            "Epoch 1/1 for local client\n"
          ]
        },
        {
          "output_type": "stream",
          "name": "stderr",
          "text": [
            "Training Batches (Epoch 1): 100%|██████████| 7759/7759 [00:40<00:00, 191.92it/s, loss=3.42]\n"
          ]
        },
        {
          "output_type": "stream",
          "name": "stdout",
          "text": [
            "Client 1 Update Sum at Round 3: 1811.3806011080742\n",
            "Epoch 1/1 for local client\n"
          ]
        },
        {
          "output_type": "stream",
          "name": "stderr",
          "text": [
            "Training Batches (Epoch 1): 100%|██████████| 12383/12383 [01:04<00:00, 191.29it/s, loss=3.72]\n"
          ]
        },
        {
          "output_type": "stream",
          "name": "stdout",
          "text": [
            "Client 2 Update Sum at Round 3: 2431.9306106567383\n",
            "Epoch 1/1 for local client\n"
          ]
        },
        {
          "output_type": "stream",
          "name": "stderr",
          "text": [
            "Training Batches (Epoch 1): 100%|██████████| 5893/5893 [00:30<00:00, 192.34it/s, loss=3.62]\n"
          ]
        },
        {
          "output_type": "stream",
          "name": "stdout",
          "text": [
            "Client 3 Update Sum at Round 3: 1632.3389110565186\n",
            "Epoch 1/1 for local client\n"
          ]
        },
        {
          "output_type": "stream",
          "name": "stderr",
          "text": [
            "Training Batches (Epoch 1): 100%|██████████| 12505/12505 [01:04<00:00, 193.56it/s, loss=4.6]\n"
          ]
        },
        {
          "output_type": "stream",
          "name": "stdout",
          "text": [
            "Client 4 Update Sum at Round 3: 2855.352305173874\n",
            "Epoch 1/1 for local client\n"
          ]
        },
        {
          "output_type": "stream",
          "name": "stderr",
          "text": [
            "Training Batches (Epoch 1): 100%|██████████| 9460/9460 [00:49<00:00, 192.54it/s, loss=4.49]\n"
          ]
        },
        {
          "output_type": "stream",
          "name": "stdout",
          "text": [
            "Client 5 Update Sum at Round 3: 1024.4318321347237\n",
            "Averaged Update Sum at Round 3: 7787.8203818798065\n",
            "Round 4/4\n",
            "Epoch 1/1 for local client\n"
          ]
        },
        {
          "output_type": "stream",
          "name": "stderr",
          "text": [
            "Training Batches (Epoch 1): 100%|██████████| 7759/7759 [00:40<00:00, 190.47it/s, loss=5.43]\n"
          ]
        },
        {
          "output_type": "stream",
          "name": "stdout",
          "text": [
            "Client 1 Update Sum at Round 4: 2386.63183259964\n",
            "Epoch 1/1 for local client\n"
          ]
        },
        {
          "output_type": "stream",
          "name": "stderr",
          "text": [
            "Training Batches (Epoch 1): 100%|██████████| 12383/12383 [01:03<00:00, 193.58it/s, loss=5.9]\n"
          ]
        },
        {
          "output_type": "stream",
          "name": "stdout",
          "text": [
            "Client 2 Update Sum at Round 4: 4800.019139289856\n",
            "Epoch 1/1 for local client\n"
          ]
        },
        {
          "output_type": "stream",
          "name": "stderr",
          "text": [
            "Training Batches (Epoch 1): 100%|██████████| 5893/5893 [00:30<00:00, 193.98it/s, loss=5.83]\n"
          ]
        },
        {
          "output_type": "stream",
          "name": "stdout",
          "text": [
            "Client 3 Update Sum at Round 4: 1571.5013201236725\n",
            "Epoch 1/1 for local client\n"
          ]
        },
        {
          "output_type": "stream",
          "name": "stderr",
          "text": [
            "Training Batches (Epoch 1): 100%|██████████| 12505/12505 [01:05<00:00, 189.49it/s, loss=6.16]\n"
          ]
        },
        {
          "output_type": "stream",
          "name": "stdout",
          "text": [
            "Client 4 Update Sum at Round 4: 3607.2541680336\n",
            "Epoch 1/1 for local client\n"
          ]
        },
        {
          "output_type": "stream",
          "name": "stderr",
          "text": [
            "Training Batches (Epoch 1): 100%|██████████| 9460/9460 [00:47<00:00, 197.12it/s, loss=6.25]"
          ]
        },
        {
          "output_type": "stream",
          "name": "stdout",
          "text": [
            "Client 5 Update Sum at Round 4: 5899.508025527\n",
            "Averaged Update Sum at Round 4: 18184.19758605957\n"
          ]
        },
        {
          "output_type": "stream",
          "name": "stderr",
          "text": [
            "\n"
          ]
        }
      ],
      "execution_count": 10
    },
    {
      "cell_type": "code",
      "source": [
        "# Calculate update magnitudes for each round\n",
        "centralized_magnitudes = [sum(param.norm().item() for param in round_update.values()) for round_update in centralized_updates]\n",
        "fedsgd_magnitudes      = [sum(param.norm().item() for param in update.values())       for update in fedsgd_avg_updates]\n",
        "\n",
        "# Plot update magnitudes\n",
        "x_labels = range(1, rounds + 1)\n",
        "width = 0.25\n",
        "\n",
        "plt.bar([x - width for x in x_labels], centralized_magnitudes, width=width, label=\"Centralized\")\n",
        "plt.bar(x_labels, fedsgd_magnitudes, width=width, label=\"FedSGD\")\n",
        "plt.xlabel(\"Round\")\n",
        "plt.ylabel(\"Average Update Magnitude\")\n",
        "plt.title(\"Update Magnitude Comparison Across Methods\")\n",
        "plt.legend()\n",
        "plt.show()\n",
        "\n",
        "# Check if the gradients are approximately the same\n",
        "tolerance = 1e-2\n",
        "success = all(abs(c - f) <= tolerance for c, f in zip(centralized_magnitudes, fedsgd_magnitudes))\n",
        "\n",
        "if success:\n",
        "    print(\"Success! The gradients are approximately the same.\")\n",
        "else:\n",
        "    print(\"Keep trying\")"
      ],
      "metadata": {
        "trusted": true,
        "execution": {
          "iopub.status.busy": "2024-11-23T10:56:18.006620Z",
          "iopub.execute_input": "2024-11-23T10:56:18.007133Z",
          "iopub.status.idle": "2024-11-23T10:56:18.306316Z",
          "shell.execute_reply.started": "2024-11-23T10:56:18.007084Z",
          "shell.execute_reply": "2024-11-23T10:56:18.305456Z"
        },
        "id": "9ucfPHhcswYW",
        "colab": {
          "base_uri": "https://localhost:8080/",
          "height": 489
        },
        "outputId": "1bb0143c-078f-40d9-ca58-5ef69ad89466"
      },
      "outputs": [
        {
          "output_type": "display_data",
          "data": {
            "text/plain": [
              "<Figure size 640x480 with 1 Axes>"
            ],
            "image/png": "[encoded data removed]"
          },
          "metadata": {}
        },
        {
          "output_type": "stream",
          "name": "stdout",
          "text": [
            "Success! The gradients are approximately the same.\n"
          ]
        }
      ],
      "execution_count": 11
    }
  ]
}